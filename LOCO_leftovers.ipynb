{
 "cells": [
  {
   "cell_type": "code",
   "execution_count": null,
   "metadata": {},
   "outputs": [],
   "source": [
    "selection = alt.selection_multi(fields=[\"element\"], bind=\"legend\")\n",
    "\n",
    "alt.Chart(xx).mark_line().encode(\n",
    "    x=\"category:T\",\n",
    "    y=alt.Y(\"KL\"),\n",
    "    color=alt.Color(\n",
    "        \"element\",\n",
    "        scale=alt.Scale(scheme=\"rainbow\"),\n",
    "        # sort=alt.Sort(field=\"-KL\"),\n",
    "        legend=alt.Legend(columns=2, labelLimit=1000),\n",
    "    ),\n",
    "    tooltip=alt.Tooltip([\"element\", \"KL\"]),\n",
    "    opacity=alt.condition(selection, alt.value(1), alt.value(0.2)),\n",
    ").properties(width=900).add_selection(selection)\n"
   ]
  },
  {
   "cell_type": "code",
   "execution_count": null,
   "metadata": {},
   "outputs": [],
   "source": [
    "main_entropy = entropy_single(\n",
    "    base_freq, \"mainstream\", \"W\", \"2019-11-01\", \"2020-07-04\"\n",
    ").assign(**{\"subcorpus\": \"mainstream\"})\n",
    "cons_entropy = entropy_single(\n",
    "    base_freq, \"conspiracy\", \"W\", \"2019-11-01\", \"2020-07-04\"\n",
    ").assign(**{\"subcorpus\": \"conspiracy\"})\n",
    "full_ = pd.concat([main_entropy, cons_entropy])\n",
    "alt.Chart(full_).mark_line().encode(\n",
    "    x=\"date:T\", y=\"entropy\", color=\"subcorpus\", tooltip=alt.Tooltip(\"date:T\")\n",
    ").properties(width=900)\n"
   ]
  },
  {
   "cell_type": "code",
   "execution_count": null,
   "metadata": {},
   "outputs": [],
   "source": [
    "def cumulative_dvr(\n",
    "    base_freq: pd.DataFrame,\n",
    "    subcorpus: Subcorpus = \"full\",\n",
    "    freq: Literal[\"MS\", \"D\", \"W\"] = \"MS\",\n",
    "    start_date: str = \"1990-01-01\",\n",
    "    end_date: str = \"2020-07-01\",\n",
    "    filter_: pd.Series | None = None,\n",
    "):\n",
    "    l = []\n",
    "    s = pd.to_datetime(start_date, format=\"%Y-%m-%d\")\n",
    "    e = pd.to_datetime(end_date, format=\"%Y-%m-%d\")\n",
    "    base_freq = base_freq[base_freq[\"date\"] >= s & base_freq[\"date\"] <= e].reset_index(\n",
    "        drop=True\n",
    "    )\n",
    "    # for date in pd.date_range(s,e,freq=freq):\n",
    "    # freq = freq_window(base_freq, e, True, subcorpus=subcorpus)\n",
    "    dvr = LPA.create_dvr(freq).assign(**{\"date\": e, \"subcorpus\": subcorpus})\n",
    "    l.append(dvr[dvr[\"element\"] == filter_])\n",
    "    return pd.concat(l).reset_index(drop=True)\n"
   ]
  },
  {
   "cell_type": "code",
   "execution_count": null,
   "metadata": {},
   "outputs": [],
   "source": [
    "def entropy_single(base_freq, *dvr_args):\n",
    "    daily = non_cumulative_dvr(base_freq, *dvr_args)\n",
    "    res = (\n",
    "        daily.pivot(index=\"element\", columns=\"date\", values=\"global_weight\")\n",
    "        .fillna(0)\n",
    "        .to_numpy()\n",
    "    )\n",
    "    kld_res = np.sum(entropy(res), axis=0)\n",
    "    kldf = pd.DataFrame(\n",
    "        {\n",
    "            \"date\": daily[\"date\"].drop_duplicates().reset_index(drop=True),\n",
    "            \"entropy\": kld_res,\n",
    "        }\n",
    "    )\n",
    "    return kldf\n"
   ]
  },
  {
   "cell_type": "code",
   "execution_count": null,
   "metadata": {},
   "outputs": [],
   "source": [
    "def plot_seasonal_decompose(kldf, arg1=\"observed\", arg2=\"trend\"):\n",
    "    ts = kldf.set_index(\"date\")\n",
    "    result = seasonal_decompose(ts, model=\"additive\")\n",
    "    # result.seasonal.plot()\n",
    "    # result.resid.plot()\n",
    "    result = (\n",
    "        getattr(result, arg1)\n",
    "        .to_frame(name=\"observed\")\n",
    "        .join(getattr(result, arg2))\n",
    "        .reset_index()\n",
    "        .melt(id_vars=\"date\")\n",
    "    )\n",
    "    return (\n",
    "        alt.Chart(result)\n",
    "        .mark_line()\n",
    "        .encode(x=\"date:T\", y=\"value\", color=\"variable\", tooltip=alt.Tooltip(\"date:T\"))\n",
    "        .properties(width=900)\n",
    "    )\n",
    "\n",
    "\n",
    "plot_seasonal_decompose(kldf)\n"
   ]
  },
  {
   "cell_type": "code",
   "execution_count": null,
   "metadata": {},
   "outputs": [],
   "source": [
    "monthly_conspiracy = non_cumulative_dvr(None, \"conspiracy\")\n",
    "monthly_mainstream = non_cumulative_dvr(None, \"mainstream\")\n",
    "monthly_conspiracy[\"subcorpus\"] = \"conspiracy\"\n",
    "monthly_mainstream[\"subcorpus\"] = \"mainstream\"\n",
    "monthly = non_cumulative_dvr()\n"
   ]
  },
  {
   "cell_type": "code",
   "execution_count": null,
   "metadata": {},
   "outputs": [],
   "source": [
    "daily_args = (\"D\", \"2019-11-01\", \"2020-07-04\")\n",
    "daily_conspiracy = non_cumulative_dvr(base_freq, \"conspiracy\", *daily_args)\n",
    "daily_mainstream = non_cumulative_dvr(base_freq, \"mainstream\", *daily_args)\n",
    "daily_conspiracy[\"subcorpus\"] = \"conspiracy\"\n",
    "daily_mainstream[\"subcorpus\"] = \"mainstream\"\n",
    "daily = non_cumulative_dvr(base_freq, \"full\", *daily_args)\n"
   ]
  },
  {
   "cell_type": "code",
   "execution_count": null,
   "metadata": {},
   "outputs": [],
   "source": [
    "def kld_double(dvr_1, dvr_2, epsilon=0):\n",
    "    dates_union = set(dvr_1[\"date\"].drop_duplicates().tolist()) & set(\n",
    "        dvr_2[\"date\"].drop_duplicates().tolist()\n",
    "    )\n",
    "    d = {\"date\": [], \"KLD\": []}\n",
    "    for date in sorted(dates_union):\n",
    "        res = pd.concat(\n",
    "            [\n",
    "                dvr_1[dvr_1[\"date\"] == date],\n",
    "                dvr_2[dvr_2[\"date\"] == date],\n",
    "            ]\n",
    "        ).pivot(index=\"element\", columns=\"subcorpus\", values=\"global_weight\")\n",
    "        res = (res / (1 + res.isna().sum() * epsilon)).fillna(epsilon).to_numpy()\n",
    "        kld_res = np.sum(\n",
    "            np.apply_along_axis(KLD_divergence_consecutive, 1, res), axis=0\n",
    "        )\n",
    "        d[\"date\"].append(date)\n",
    "        d[\"KLD\"].append(kld_res[0])\n",
    "    return pd.DataFrame(d)\n"
   ]
  },
  {
   "cell_type": "code",
   "execution_count": null,
   "metadata": {},
   "outputs": [],
   "source": [
    "comparative_kldf = kld_double(daily_mainstream, daily_conspiracy, epsilon=2e-5)\n",
    "alt.Chart(comparative_kldf).mark_line().encode(\n",
    "    x=\"date:T\", y=\"KLD\", tooltip=alt.Tooltip(\"date:T\")\n",
    ").properties(width=900)\n"
   ]
  },
  {
   "cell_type": "code",
   "execution_count": null,
   "metadata": {},
   "outputs": [],
   "source": [
    "ts = comparative_kldf.set_index(\"date\")\n",
    "idx = pd.date_range(\"2019-11-01\", \"2020-07-01\")\n",
    "ts.index = pd.DatetimeIndex(ts.index)\n",
    "ts = ts.reindex(idx, fill_value=0)\n",
    "result = seasonal_decompose(ts)  # , model='additive', period=241)\n",
    "result = (\n",
    "    result.observed.to_frame(name=\"observed\")\n",
    "    .join(result.trend)\n",
    "    .reset_index()\n",
    "    .melt(id_vars=\"index\")\n",
    ")\n",
    "alt.Chart(result).mark_line().encode(\n",
    "    x=\"index:T\", y=\"value\", color=\"variable\", tooltip=alt.Tooltip(\"index:T\")\n",
    ").properties(width=900)\n",
    "\n",
    "# result.resid.plot()\n",
    "# result.observed.plot()\n"
   ]
  },
  {
   "cell_type": "code",
   "execution_count": null,
   "metadata": {},
   "outputs": [],
   "source": [
    "def word_over_time(\n",
    "    full_dvr: pd.DataFrame,\n",
    "    word: List[str] | str,\n",
    "    save: bool = False,\n",
    "    cumulative: bool = True,\n",
    ") -> alt.Chart:\n",
    "    # dvr must be full cumulative dvr\n",
    "    dvr = full_dvr[full_dvr[\"element\"].isin((word if isinstance(list) else [word]))]\n",
    "    selection = alt.selection_multi(fields=[\"element\"], bind=\"legend\")\n",
    "    chart = alt.Chart(dvr).mark_line() if cumulative else alt.Chart(dvr).mark_bar()\n",
    "    chart = (\n",
    "        chart.encode(\n",
    "            x=alt.X(\"date:T\"),\n",
    "            y=\"global_weight\",\n",
    "            color=alt.Color(\"element\", legend=alt.Legend(columns=3, symbolLimit=300)),\n",
    "            opacity=alt.condition(selection, alt.value(1), alt.value(0.2)),\n",
    "        )\n",
    "        .add_selection(selection)\n",
    "        .properties(width=900)\n",
    "    )\n",
    "    if save == True:\n",
    "        chart.save(\"results/random.html\")\n",
    "    return chart\n",
    "\n",
    "\n",
    "word_over_time(full_dvr, \"vaccin\")\n"
   ]
  },
  {
   "cell_type": "code",
   "execution_count": null,
   "metadata": {},
   "outputs": [],
   "source": [
    "dr = pd.date_range(\n",
    "    pd.to_datetime(\"1990-01-01\", format=\"%Y-%m-%d\"),\n",
    "    pd.to_datetime(\"2022-01-01\", format=\"%Y-%m-%d\"),\n",
    "    freq=\"MS\",\n",
    ")\n",
    "s = dr.to_series(name=\"date\")\n",
    "df = full_dvr[full_dvr[\"element\"] == \"world\"]\n",
    "ts = (\n",
    "    pd.merge(s, df, right_on=\"date\", left_index=True, how=\"outer\")[\n",
    "        \"frequency_in_category\"\n",
    "    ]\n",
    "    .fillna(0)\n",
    "    .reset_index(drop=True)\n",
    ")\n",
    "ts.index = dr\n",
    "ts\n",
    "# ts = df.set_index(\"date\")['frequency_in_category']\n"
   ]
  }
 ],
 "metadata": {
  "kernelspec": {
   "display_name": "Python 3.10.5 ('lpa')",
   "language": "python",
   "name": "python3"
  },
  "language_info": {
   "name": "python",
   "version": "3.10.5"
  },
  "orig_nbformat": 4,
  "vscode": {
   "interpreter": {
    "hash": "602d5137c5051c7ad1050fca0bcc77f792b5903d7dd0c5290bd7ccb1dc571dda"
   }
  }
 },
 "nbformat": 4,
 "nbformat_minor": 2
}
