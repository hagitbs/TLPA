{
 "cells": [
  {
   "cell_type": "code",
   "execution_count": null,
   "metadata": {},
   "outputs": [],
   "source": [
    "# coor = np.random.randint(0,10, (5,3))\n",
    "# n_coor = len(coor)\n",
    "# dist = np.zeros((n_coor, n_coor))\n",
    "# r = np.arange(n_coor)\n",
    "# # r\n",
    "# dist[r[:,None] < r] = pdist(coor)\n",
    "# dist"
   ]
  }
 ],
 "metadata": {
  "language_info": {
   "name": "python"
  },
  "orig_nbformat": 4
 },
 "nbformat": 4,
 "nbformat_minor": 2
}
